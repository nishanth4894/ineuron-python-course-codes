{
 "cells": [
  {
   "cell_type": "markdown",
   "metadata": {},
   "source": [
    "1. Find out all the types of error that we have encountered in our lecture and why? Also include the examples."
   ]
  },
  {
   "cell_type": "markdown",
   "metadata": {},
   "source": [
    "1. NameError: name 'Ten' is not defined\n",
    "\n",
    "   This error is encountered because of variable declaration\n",
    "\n",
    "\n",
    "2. <ipython-input-6-67ee3d3b1c34> in <module>\n",
    "----> 1 print(\"Hi there\")\n",
    "\n",
    "    TypeError: 'str' object is not callable\n",
    "    \n",
    "    This is observed because we've removed the prime function of print keyword by using it for variable delcaration.\n",
    "    \n",
    "\n",
    "3. Name: Sunny\n",
    "place: BLR\n",
    "year_of_birth: 1991\n",
    "\n",
    "---------------------------------------------------------------------------\n",
    "\n",
    "TypeError                                 Traceback (most recent call last)\n",
    "\n",
    "<ipython-input-77-6f0a8cb6799f> in <module>\n",
    "      5 year_of_birth = input(\"year_of_birth: \")\n",
    "      6 \n",
    "----> 7 age = 2022 - year_of_birth\n",
    "      8 \n",
    "      9 print(f\"\"\"\n",
    "\n",
    "TypeError: unsupported operand type(s) for -: 'int' and 'str'\n",
    "    \n",
    "    \n",
    "Here the \"year_of_birth\" is in str format because of which the substraction is not possible from int.\n",
    "    \n",
    "    \n",
    "4.    int A\n",
    "        ^\n",
    "SyntaxError: invalid syntax\n",
    "    \n",
    "    It's a syntax error and it can be used as int(A)\n",
    "    \n",
    " \n",
    "5. Enter value of A: 10.2\n",
    "Enter value of B: 10.2\n",
    "\n",
    "---------------------------------------------------------------------------\n",
    "\n",
    "ValueError                                Traceback (most recent call last)\n",
    "\n",
    "<ipython-input-81-66a6f430b15b> in <module>\n",
    "      1 A = float(input(\"Enter value of A: \"))\n",
    "----> 2 B = int(input(\"Enter value of B: \"))\n",
    "      3 \n",
    "      4 print(f\"Sum of A and B is: {A+B}\")\n",
    "\n",
    "ValueError: invalid literal for int() with base 10: '10.2'\n",
    "    \n",
    "    \n",
    "Here the float is 10.2 and int is also 10.2 int shouldn't have any decimals for the operation to happen.\n",
    "    \n",
    "\n",
    "    \n",
    "6. ValueError                                Traceback (most recent call last)\n",
    "\n",
    "<ipython-input-45-44a89d3a265f> in <module>\n",
    "      2 A = \"50.22\" # entering float\n",
    "      3 print(f\"data type before: {type(A)}, value of A: {A}\")\n",
    "----> 4 A = int(A) # trying to convert into integer\n",
    "      5 print(f\"data type after: {type(A)}, value of A: {A}\")\n",
    "\n",
    "ValueError: invalid literal for int() with base 10: '50.22'\n",
    "    \n",
    "Here we're converting the str into int where the str in decimal format because of which it gave an error. If we use float it will be fine.\n",
    "    \n",
    "    \n",
    "7. data type before: <class 'str'>, value of A: \n",
    "\n",
    "---------------------------------------------------------------------------\n",
    "\n",
    "ValueError                                Traceback (most recent call last)\n",
    "\n",
    "<ipython-input-57-a8248b2f88e9> in <module>\n",
    "      2 A = \"\"\n",
    "      3 print(f\"data type before: {type(A)}, value of A: {A}\")\n",
    "----> 4 A = int(A)\n",
    "      5 print(f\"data type after: {type(A)}, value of A: {A}\")\n",
    "\n",
    "ValueError: invalid literal for int() with base 10: ''\n",
    "    \n",
    "Coverting an empty str to int or float is not possible as there's no value.\n",
    "    \n",
    "    \n",
    " "
   ]
  },
  {
   "cell_type": "markdown",
   "metadata": {},
   "source": [
    "2. Take input A and B and print their sum, mul, div, square of the nos.\n"
   ]
  },
  {
   "cell_type": "code",
   "execution_count": 9,
   "metadata": {},
   "outputs": [
    {
     "name": "stdout",
     "output_type": "stream",
     "text": [
      "Please enter a number A: 3\n",
      "Please enter a number B: 4\n",
      "The sum of numbers: 7, \n",
      "the product of numbers: 12, \n",
      "the divison of numbers: 0.75, \n",
      "the square of numbers: 81 \n"
     ]
    }
   ],
   "source": [
    "A = int(input(\"Please enter a number A: \"))\n",
    "B = int(input(\"Please enter a number B: \"))\n",
    "\n",
    "sum_ = A + B\n",
    "mul = A * B\n",
    "div = A / B \n",
    "sq = A ** B\n",
    "print(f\"\"\"The sum of numbers: {sum_}, \n",
    "the product of numbers: {mul}, \n",
    "the divison of numbers: {div}, \n",
    "the square of numbers: {sq} \"\"\")"
   ]
  },
  {
   "cell_type": "markdown",
   "metadata": {},
   "source": [
    "3. How many reserve keywords are there in python and why we should not use them as a variable name."
   ]
  },
  {
   "cell_type": "markdown",
   "metadata": {},
   "source": [
    "ANS: There're 33 keywords in Python. They cannot be used for variable declaration because the prime function of the keywords will be lost if used."
   ]
  },
  {
   "cell_type": "markdown",
   "metadata": {},
   "source": [
    "4. Create email ids with the user inputs. in the following format - lastname.firstname@gmail.com"
   ]
  },
  {
   "cell_type": "code",
   "execution_count": 11,
   "metadata": {},
   "outputs": [
    {
     "name": "stdout",
     "output_type": "stream",
     "text": [
      "Please enter your first name: tom\n",
      "Please enter your last name: cruise\n",
      "Your email id is: cruise.tom@gmail.com\n"
     ]
    }
   ],
   "source": [
    "firstname = (input(\"Please enter your first name: \"))\n",
    "lastname = (input(\"Please enter your last name: \"))\n",
    "print(f\"Your email id is: {lastname}.{firstname}@gmail.com\")"
   ]
  },
  {
   "cell_type": "markdown",
   "metadata": {},
   "source": [
    "5. Try to print the following lines -\n",
    "\n",
    "    Hi I'm Sunny\n",
    "    \n",
    "    My address is 22\\3\n",
    "\n",
    "    I earn 20$ daily.\n"
   ]
  },
  {
   "cell_type": "code",
   "execution_count": 13,
   "metadata": {},
   "outputs": [
    {
     "name": "stdout",
     "output_type": "stream",
     "text": [
      "Please enter your name: Sunny\n",
      "Please enter your address: 22/3\n",
      "Please enter your daily income: 20$\n",
      "Hi, I'm Sunny\n",
      "My address is 22/3\n",
      "I earn 20$ daily.\n"
     ]
    }
   ],
   "source": [
    "name = (input(\"Please enter your name: \"))\n",
    "address = (input(\"Please enter your address: \"))\n",
    "income = (input(\"Please enter your daily income: \"))\n",
    "print(F\"\"\"Hi, I'm {name}\n",
    "My address is {address}\n",
    "I earn {income} daily.\"\"\")"
   ]
  },
  {
   "cell_type": "markdown",
   "metadata": {},
   "source": [
    "6. Take user input (name, address, date of birth etc) to fill a form for your college and print their email IDs"
   ]
  },
  {
   "cell_type": "code",
   "execution_count": 17,
   "metadata": {},
   "outputs": [
    {
     "name": "stdout",
     "output_type": "stream",
     "text": [
      "Please enter your name: Nishanth\n",
      "Please enter your address: Vizag\n",
      "Please enter your date of birth: 4th March\n",
      "Please enter your email address: nishanth4894@gmail.com\n",
      "Name : Nishanth\n",
      "address : Vizag\n",
      "date of birth : 4th March\n",
      "email id : nishanth4894@gmail.com\n"
     ]
    }
   ],
   "source": [
    "name = (input(\"Please enter your name: \"))\n",
    "address = (input(\"Please enter your address: \"))\n",
    "DOB = (input(\"Please enter your date of birth: \"))\n",
    "emailid = (input(\"Please enter your email address: \"))\n",
    "print(f\"\"\"Name : {name}\n",
    "address : {address}\n",
    "date of birth : {DOB}\n",
    "email id : {emailid}\"\"\")"
   ]
  },
  {
   "cell_type": "markdown",
   "metadata": {},
   "source": [
    "7. Convert the following -\n",
    "\n",
    "    \"22.4\" into integer\n",
    "    \n",
    "    \"22\" into complex no.\n"
   ]
  },
  {
   "cell_type": "code",
   "execution_count": 35,
   "metadata": {},
   "outputs": [
    {
     "name": "stdout",
     "output_type": "stream",
     "text": [
      "enter a decimal number: 22.4\n",
      "22\n"
     ]
    }
   ],
   "source": [
    "#float to int\n",
    "A = float(input(\"enter a decimal number: \"))\n",
    "int(A)\n",
    "print(int(A))"
   ]
  },
  {
   "cell_type": "code",
   "execution_count": 37,
   "metadata": {},
   "outputs": [
    {
     "data": {
      "text/plain": [
       "(22+0j)"
      ]
     },
     "execution_count": 37,
     "metadata": {},
     "output_type": "execute_result"
    }
   ],
   "source": [
    "#str to comp\n",
    "A = \"22\"\n",
    "complex(A)"
   ]
  },
  {
   "cell_type": "code",
   "execution_count": null,
   "metadata": {},
   "outputs": [],
   "source": []
  }
 ],
 "metadata": {
  "kernelspec": {
   "display_name": "Python 3",
   "language": "python",
   "name": "python3"
  },
  "language_info": {
   "codemirror_mode": {
    "name": "ipython",
    "version": 3
   },
   "file_extension": ".py",
   "mimetype": "text/x-python",
   "name": "python",
   "nbconvert_exporter": "python",
   "pygments_lexer": "ipython3",
   "version": "3.8.5"
  }
 },
 "nbformat": 4,
 "nbformat_minor": 4
}
